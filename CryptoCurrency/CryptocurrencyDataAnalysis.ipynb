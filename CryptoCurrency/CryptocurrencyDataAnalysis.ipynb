{
 "cells": [
  {
   "cell_type": "code",
   "execution_count": null,
   "metadata": {},
   "outputs": [],
   "source": [
    "import pandas as pd\n",
    "import matplotlib.pyplot as plt\n",
    "import seaborn as sns"
   ]
  },
  {
   "cell_type": "code",
   "execution_count": null,
   "metadata": {},
   "outputs": [],
   "source": [
    "cryptoCurrencyData = pd.read_csv(\"CryptocurrencyData.csv\")"
   ]
  },
  {
   "cell_type": "code",
   "execution_count": null,
   "metadata": {},
   "outputs": [],
   "source": [
    "cryptoCurrencyData"
   ]
  },
  {
   "cell_type": "code",
   "execution_count": null,
   "metadata": {},
   "outputs": [],
   "source": [
    "print(cryptoCurrencyData.dtypes)"
   ]
  },
  {
   "cell_type": "code",
   "execution_count": null,
   "metadata": {},
   "outputs": [],
   "source": [
    "print(cryptoCurrencyData.describe())"
   ]
  },
  {
   "cell_type": "code",
   "execution_count": null,
   "metadata": {},
   "outputs": [],
   "source": [
    "plt.figure(figsize=(12, 8))\n",
    "\n",
    "plt.subplot(2, 2, 1)\n",
    "sns.lineplot(x='Time', y='Price', data=cryptoCurrencyData[cryptoCurrencyData['Coin'] == 'BTC'], label='BTC', color='blue')\n",
    "plt.title('BTC')\n",
    "plt.xlabel('Time')\n",
    "plt.ylabel('Price')\n",
    "\n",
    "plt.subplot(2, 2, 2)\n",
    "sns.lineplot(x='Time', y='Price', data=cryptoCurrencyData[cryptoCurrencyData['Coin'] == 'ETH'], label='ETH', color='green')\n",
    "plt.title('ETH')\n",
    "plt.xlabel('Time')\n",
    "plt.ylabel('Price')\n",
    "\n",
    "plt.subplot(2, 2, 3)\n",
    "sns.lineplot(x='Time', y='Price', data=cryptoCurrencyData[cryptoCurrencyData['Coin'] == 'DOGE'], label='DOGE', color='orange')\n",
    "plt.title('DOGE')\n",
    "plt.xlabel('Time')\n",
    "plt.ylabel('Price')\n",
    "\n",
    "plt.subplot(2, 2, 4)\n",
    "sns.lineplot(x='Time', y='Price', data=cryptoCurrencyData[cryptoCurrencyData['Coin'] == 'SHIBA'], label='SHIBA', color='red')\n",
    "plt.title('SHIBA')\n",
    "plt.xlabel('Time')\n",
    "plt.ylabel('Price')\n",
    "\n",
    "plt.tight_layout()\n",
    "plt.show()\n"
   ]
  }
 ],
 "metadata": {
  "kernelspec": {
   "display_name": "Python 3",
   "language": "python",
   "name": "python3"
  },
  "language_info": {
   "codemirror_mode": {
    "name": "ipython",
    "version": 3
   },
   "file_extension": ".py",
   "mimetype": "text/x-python",
   "name": "python",
   "nbconvert_exporter": "python",
   "pygments_lexer": "ipython3",
   "version": "3.11.2"
  }
 },
 "nbformat": 4,
 "nbformat_minor": 2
}
